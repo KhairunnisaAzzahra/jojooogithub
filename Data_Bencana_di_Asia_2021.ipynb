{
  "nbformat": 4,
  "nbformat_minor": 0,
  "metadata": {
    "colab": {
      "provenance": []
    },
    "kernelspec": {
      "name": "python3",
      "display_name": "Python 3"
    },
    "language_info": {
      "name": "python"
    }
  },
  "cells": [
    {
      "cell_type": "code",
      "execution_count": null,
      "metadata": {
        "id": "y891WAgjT7KQ"
      },
      "outputs": [],
      "source": [
        "import pandas as pd\n",
        "import numpy as np\n",
        "import seaborn as sns\n",
        "import matplotlib.pyplot as plt\n",
        "sns.set_theme(style=\"whitegrid\", color_codes=True)\n",
        "sns.set(rc={'figure.figsize':(16,12)})"
      ]
    },
    {
      "cell_type": "code",
      "source": [
        "data = pd.read_excel('/content/Data Bencana di Asia 2021 (2).xlsx')"
      ],
      "metadata": {
        "id": "ehC3LS_61eFy"
      },
      "execution_count": null,
      "outputs": []
    },
    {
      "cell_type": "code",
      "source": [
        "data"
      ],
      "metadata": {
        "colab": {
          "base_uri": "https://localhost:8080/",
          "height": 1000
        },
        "id": "Cj9duJB3UpSC",
        "outputId": "65fb522e-21b8-4d1b-a905-cbd5e99cc4c4"
      },
      "execution_count": null,
      "outputs": [
        {
          "output_type": "execute_result",
          "data": {
            "text/plain": [
              "            Dis No  Year   Seq           Glide Disaster Group  \\\n",
              "0    2021-9116-AFG  2021  9116  DR-2021-000022        Natural   \n",
              "1    2021-0263-AFG  2021   263  FL-2021-000050        Natural   \n",
              "2    2021-0453-AFG  2021   453  FF-2021-000102        Natural   \n",
              "3    2021-0144-AFG  2021   144             NaN        Natural   \n",
              "4    2021-0455-BGD  2021   455             NaN        Natural   \n",
              "..             ...   ...   ...             ...            ...   \n",
              "170  2021-0217-VNM  2021   217             NaN        Natural   \n",
              "171  2021-0595-VNM  2021   595             NaN        Natural   \n",
              "172  2021-0813-VNM  2021   813  TC-2021-000202        Natural   \n",
              "173  2021-0270-YEM  2021   270             NaN        Natural   \n",
              "174  2021-0449-YEM  2021   449  FL-2021-000110        Natural   \n",
              "\n",
              "    Disaster Subgroup Disaster Type  Disaster Subtype Disaster Subsubtype  \\\n",
              "0      Climatological       Drought           Drought                 NaN   \n",
              "1        Hydrological         Flood       Flash flood                 NaN   \n",
              "2        Hydrological         Flood       Flash flood                 NaN   \n",
              "3        Hydrological     Landslide         Avalanche                 NaN   \n",
              "4        Hydrological         Flood               NaN                 NaN   \n",
              "..                ...           ...               ...                 ...   \n",
              "170      Hydrological         Flood       Flash flood                 NaN   \n",
              "171    Meteorological         Storm  Tropical cyclone                 NaN   \n",
              "172    Meteorological         Storm  Tropical cyclone                 NaN   \n",
              "173      Hydrological         Flood       Flash flood                 NaN   \n",
              "174      Hydrological         Flood               NaN                 NaN   \n",
              "\n",
              "                             Event Name  ...  \\\n",
              "0                                   NaN  ...   \n",
              "1                                   NaN  ...   \n",
              "2                                   NaN  ...   \n",
              "3                                   NaN  ...   \n",
              "4                                   NaN  ...   \n",
              "..                                  ...  ...   \n",
              "170                                 NaN  ...   \n",
              "171  Tropical cyclone 'Conson' (Jolina)  ...   \n",
              "172              Typhoon 'Rai' (Odette)  ...   \n",
              "173                                 NaN  ...   \n",
              "174                                 NaN  ...   \n",
              "\n",
              "    Reconstruction Costs, Adjusted ('000 US$)  Insured Damages ('000 US$)  \\\n",
              "0                                         NaN                         NaN   \n",
              "1                                         NaN                         NaN   \n",
              "2                                         NaN                         NaN   \n",
              "3                                         NaN                         NaN   \n",
              "4                                         NaN                         NaN   \n",
              "..                                        ...                         ...   \n",
              "170                                       NaN                         NaN   \n",
              "171                                       NaN                         NaN   \n",
              "172                                       NaN                         NaN   \n",
              "173                                       NaN                         NaN   \n",
              "174                                       NaN                         NaN   \n",
              "\n",
              "    Insured Damages, Adjusted ('000 US$) Total Damages  \\\n",
              "0                                    NaN           NaN   \n",
              "1                                    NaN           NaN   \n",
              "2                                    NaN           NaN   \n",
              "3                                    NaN           NaN   \n",
              "4                                    NaN           NaN   \n",
              "..                                   ...           ...   \n",
              "170                                  NaN           NaN   \n",
              "171                                  NaN           NaN   \n",
              "172                                  NaN        9000.0   \n",
              "173                                  NaN           NaN   \n",
              "174                                  NaN           NaN   \n",
              "\n",
              "    Total Damages, Adjusted ('000 US$)  CPI Adm Level  \\\n",
              "0                                  NaN  100         1   \n",
              "1                                  NaN  100       1;2   \n",
              "2                                  NaN  100         2   \n",
              "3                                  NaN  100         2   \n",
              "4                                  NaN  100         2   \n",
              "..                                 ...  ...       ...   \n",
              "170                                NaN  100       1;2   \n",
              "171                                NaN  100       NaN   \n",
              "172                             9000.0  100         1   \n",
              "173                                NaN  100         1   \n",
              "174                                NaN  100         1   \n",
              "\n",
              "                                           Admin1 Code  Admin2 Code  \\\n",
              "0          272;273;274;275;278;282;283;289;298;299;300          NaN   \n",
              "1    272;274;276;277;280;284;286;288;289;298;299;30...         3561   \n",
              "2                                                  NaN         3680   \n",
              "3                                                  NaN        99998   \n",
              "4                                                  NaN         5772   \n",
              "..                                                 ...          ...   \n",
              "170                                               3345  32447;32671   \n",
              "171                                                NaN          NaN   \n",
              "172                                     3334;3366;3374          NaN   \n",
              "173  3407;3408;3411;3419;3420;3421;3424;3425;144970...          NaN   \n",
              "174  3408;3410;3411;3412;3413;3414;3415;3416;3418;3...          NaN   \n",
              "\n",
              "                                         Geo Locations  \n",
              "0    Badakhshan, Badghis, Baghlan, Balkh, Faryab, H...  \n",
              "1    Badakhshan, Baghlan, Bamyan, Farah, Ghor, Kabu...  \n",
              "2                                      Kamdesh (Adm2).  \n",
              "3                                    Raghestan (Adm2).  \n",
              "4                                  Cox's Bazar (Adm2).  \n",
              "..                                                 ...  \n",
              "170         Ha Giang (Adm1). Tran Yen, Van Ban (Adm2).  \n",
              "171                                                NaN  \n",
              "172            Binh Duong, Nghe An, Quang Ngai (Adm1).  \n",
              "173  Abyan, Aden, Al Dhale'e, Al Hudaydah, Hadramau...  \n",
              "174  Al Bayda, Al Dhale'e, Al Hudaydah, Al Jawf, Al...  \n",
              "\n",
              "[175 rows x 51 columns]"
            ],
            "text/html": [
              "\n",
              "  <div id=\"df-0974f67a-72a3-4c99-80bd-ade150c01c54\">\n",
              "    <div class=\"colab-df-container\">\n",
              "      <div>\n",
              "<style scoped>\n",
              "    .dataframe tbody tr th:only-of-type {\n",
              "        vertical-align: middle;\n",
              "    }\n",
              "\n",
              "    .dataframe tbody tr th {\n",
              "        vertical-align: top;\n",
              "    }\n",
              "\n",
              "    .dataframe thead th {\n",
              "        text-align: right;\n",
              "    }\n",
              "</style>\n",
              "<table border=\"1\" class=\"dataframe\">\n",
              "  <thead>\n",
              "    <tr style=\"text-align: right;\">\n",
              "      <th></th>\n",
              "      <th>Dis No</th>\n",
              "      <th>Year</th>\n",
              "      <th>Seq</th>\n",
              "      <th>Glide</th>\n",
              "      <th>Disaster Group</th>\n",
              "      <th>Disaster Subgroup</th>\n",
              "      <th>Disaster Type</th>\n",
              "      <th>Disaster Subtype</th>\n",
              "      <th>Disaster Subsubtype</th>\n",
              "      <th>Event Name</th>\n",
              "      <th>...</th>\n",
              "      <th>Reconstruction Costs, Adjusted ('000 US$)</th>\n",
              "      <th>Insured Damages ('000 US$)</th>\n",
              "      <th>Insured Damages, Adjusted ('000 US$)</th>\n",
              "      <th>Total Damages</th>\n",
              "      <th>Total Damages, Adjusted ('000 US$)</th>\n",
              "      <th>CPI</th>\n",
              "      <th>Adm Level</th>\n",
              "      <th>Admin1 Code</th>\n",
              "      <th>Admin2 Code</th>\n",
              "      <th>Geo Locations</th>\n",
              "    </tr>\n",
              "  </thead>\n",
              "  <tbody>\n",
              "    <tr>\n",
              "      <th>0</th>\n",
              "      <td>2021-9116-AFG</td>\n",
              "      <td>2021</td>\n",
              "      <td>9116</td>\n",
              "      <td>DR-2021-000022</td>\n",
              "      <td>Natural</td>\n",
              "      <td>Climatological</td>\n",
              "      <td>Drought</td>\n",
              "      <td>Drought</td>\n",
              "      <td>NaN</td>\n",
              "      <td>NaN</td>\n",
              "      <td>...</td>\n",
              "      <td>NaN</td>\n",
              "      <td>NaN</td>\n",
              "      <td>NaN</td>\n",
              "      <td>NaN</td>\n",
              "      <td>NaN</td>\n",
              "      <td>100</td>\n",
              "      <td>1</td>\n",
              "      <td>272;273;274;275;278;282;283;289;298;299;300</td>\n",
              "      <td>NaN</td>\n",
              "      <td>Badakhshan, Badghis, Baghlan, Balkh, Faryab, H...</td>\n",
              "    </tr>\n",
              "    <tr>\n",
              "      <th>1</th>\n",
              "      <td>2021-0263-AFG</td>\n",
              "      <td>2021</td>\n",
              "      <td>263</td>\n",
              "      <td>FL-2021-000050</td>\n",
              "      <td>Natural</td>\n",
              "      <td>Hydrological</td>\n",
              "      <td>Flood</td>\n",
              "      <td>Flash flood</td>\n",
              "      <td>NaN</td>\n",
              "      <td>NaN</td>\n",
              "      <td>...</td>\n",
              "      <td>NaN</td>\n",
              "      <td>NaN</td>\n",
              "      <td>NaN</td>\n",
              "      <td>NaN</td>\n",
              "      <td>NaN</td>\n",
              "      <td>100</td>\n",
              "      <td>1;2</td>\n",
              "      <td>272;274;276;277;280;284;286;288;289;298;299;30...</td>\n",
              "      <td>3561</td>\n",
              "      <td>Badakhshan, Baghlan, Bamyan, Farah, Ghor, Kabu...</td>\n",
              "    </tr>\n",
              "    <tr>\n",
              "      <th>2</th>\n",
              "      <td>2021-0453-AFG</td>\n",
              "      <td>2021</td>\n",
              "      <td>453</td>\n",
              "      <td>FF-2021-000102</td>\n",
              "      <td>Natural</td>\n",
              "      <td>Hydrological</td>\n",
              "      <td>Flood</td>\n",
              "      <td>Flash flood</td>\n",
              "      <td>NaN</td>\n",
              "      <td>NaN</td>\n",
              "      <td>...</td>\n",
              "      <td>NaN</td>\n",
              "      <td>NaN</td>\n",
              "      <td>NaN</td>\n",
              "      <td>NaN</td>\n",
              "      <td>NaN</td>\n",
              "      <td>100</td>\n",
              "      <td>2</td>\n",
              "      <td>NaN</td>\n",
              "      <td>3680</td>\n",
              "      <td>Kamdesh (Adm2).</td>\n",
              "    </tr>\n",
              "    <tr>\n",
              "      <th>3</th>\n",
              "      <td>2021-0144-AFG</td>\n",
              "      <td>2021</td>\n",
              "      <td>144</td>\n",
              "      <td>NaN</td>\n",
              "      <td>Natural</td>\n",
              "      <td>Hydrological</td>\n",
              "      <td>Landslide</td>\n",
              "      <td>Avalanche</td>\n",
              "      <td>NaN</td>\n",
              "      <td>NaN</td>\n",
              "      <td>...</td>\n",
              "      <td>NaN</td>\n",
              "      <td>NaN</td>\n",
              "      <td>NaN</td>\n",
              "      <td>NaN</td>\n",
              "      <td>NaN</td>\n",
              "      <td>100</td>\n",
              "      <td>2</td>\n",
              "      <td>NaN</td>\n",
              "      <td>99998</td>\n",
              "      <td>Raghestan (Adm2).</td>\n",
              "    </tr>\n",
              "    <tr>\n",
              "      <th>4</th>\n",
              "      <td>2021-0455-BGD</td>\n",
              "      <td>2021</td>\n",
              "      <td>455</td>\n",
              "      <td>NaN</td>\n",
              "      <td>Natural</td>\n",
              "      <td>Hydrological</td>\n",
              "      <td>Flood</td>\n",
              "      <td>NaN</td>\n",
              "      <td>NaN</td>\n",
              "      <td>NaN</td>\n",
              "      <td>...</td>\n",
              "      <td>NaN</td>\n",
              "      <td>NaN</td>\n",
              "      <td>NaN</td>\n",
              "      <td>NaN</td>\n",
              "      <td>NaN</td>\n",
              "      <td>100</td>\n",
              "      <td>2</td>\n",
              "      <td>NaN</td>\n",
              "      <td>5772</td>\n",
              "      <td>Cox's Bazar (Adm2).</td>\n",
              "    </tr>\n",
              "    <tr>\n",
              "      <th>...</th>\n",
              "      <td>...</td>\n",
              "      <td>...</td>\n",
              "      <td>...</td>\n",
              "      <td>...</td>\n",
              "      <td>...</td>\n",
              "      <td>...</td>\n",
              "      <td>...</td>\n",
              "      <td>...</td>\n",
              "      <td>...</td>\n",
              "      <td>...</td>\n",
              "      <td>...</td>\n",
              "      <td>...</td>\n",
              "      <td>...</td>\n",
              "      <td>...</td>\n",
              "      <td>...</td>\n",
              "      <td>...</td>\n",
              "      <td>...</td>\n",
              "      <td>...</td>\n",
              "      <td>...</td>\n",
              "      <td>...</td>\n",
              "      <td>...</td>\n",
              "    </tr>\n",
              "    <tr>\n",
              "      <th>170</th>\n",
              "      <td>2021-0217-VNM</td>\n",
              "      <td>2021</td>\n",
              "      <td>217</td>\n",
              "      <td>NaN</td>\n",
              "      <td>Natural</td>\n",
              "      <td>Hydrological</td>\n",
              "      <td>Flood</td>\n",
              "      <td>Flash flood</td>\n",
              "      <td>NaN</td>\n",
              "      <td>NaN</td>\n",
              "      <td>...</td>\n",
              "      <td>NaN</td>\n",
              "      <td>NaN</td>\n",
              "      <td>NaN</td>\n",
              "      <td>NaN</td>\n",
              "      <td>NaN</td>\n",
              "      <td>100</td>\n",
              "      <td>1;2</td>\n",
              "      <td>3345</td>\n",
              "      <td>32447;32671</td>\n",
              "      <td>Ha Giang (Adm1). Tran Yen, Van Ban (Adm2).</td>\n",
              "    </tr>\n",
              "    <tr>\n",
              "      <th>171</th>\n",
              "      <td>2021-0595-VNM</td>\n",
              "      <td>2021</td>\n",
              "      <td>595</td>\n",
              "      <td>NaN</td>\n",
              "      <td>Natural</td>\n",
              "      <td>Meteorological</td>\n",
              "      <td>Storm</td>\n",
              "      <td>Tropical cyclone</td>\n",
              "      <td>NaN</td>\n",
              "      <td>Tropical cyclone 'Conson' (Jolina)</td>\n",
              "      <td>...</td>\n",
              "      <td>NaN</td>\n",
              "      <td>NaN</td>\n",
              "      <td>NaN</td>\n",
              "      <td>NaN</td>\n",
              "      <td>NaN</td>\n",
              "      <td>100</td>\n",
              "      <td>NaN</td>\n",
              "      <td>NaN</td>\n",
              "      <td>NaN</td>\n",
              "      <td>NaN</td>\n",
              "    </tr>\n",
              "    <tr>\n",
              "      <th>172</th>\n",
              "      <td>2021-0813-VNM</td>\n",
              "      <td>2021</td>\n",
              "      <td>813</td>\n",
              "      <td>TC-2021-000202</td>\n",
              "      <td>Natural</td>\n",
              "      <td>Meteorological</td>\n",
              "      <td>Storm</td>\n",
              "      <td>Tropical cyclone</td>\n",
              "      <td>NaN</td>\n",
              "      <td>Typhoon 'Rai' (Odette)</td>\n",
              "      <td>...</td>\n",
              "      <td>NaN</td>\n",
              "      <td>NaN</td>\n",
              "      <td>NaN</td>\n",
              "      <td>9000.0</td>\n",
              "      <td>9000.0</td>\n",
              "      <td>100</td>\n",
              "      <td>1</td>\n",
              "      <td>3334;3366;3374</td>\n",
              "      <td>NaN</td>\n",
              "      <td>Binh Duong, Nghe An, Quang Ngai (Adm1).</td>\n",
              "    </tr>\n",
              "    <tr>\n",
              "      <th>173</th>\n",
              "      <td>2021-0270-YEM</td>\n",
              "      <td>2021</td>\n",
              "      <td>270</td>\n",
              "      <td>NaN</td>\n",
              "      <td>Natural</td>\n",
              "      <td>Hydrological</td>\n",
              "      <td>Flood</td>\n",
              "      <td>Flash flood</td>\n",
              "      <td>NaN</td>\n",
              "      <td>NaN</td>\n",
              "      <td>...</td>\n",
              "      <td>NaN</td>\n",
              "      <td>NaN</td>\n",
              "      <td>NaN</td>\n",
              "      <td>NaN</td>\n",
              "      <td>NaN</td>\n",
              "      <td>100</td>\n",
              "      <td>1</td>\n",
              "      <td>3407;3408;3411;3419;3420;3421;3424;3425;144970...</td>\n",
              "      <td>NaN</td>\n",
              "      <td>Abyan, Aden, Al Dhale'e, Al Hudaydah, Hadramau...</td>\n",
              "    </tr>\n",
              "    <tr>\n",
              "      <th>174</th>\n",
              "      <td>2021-0449-YEM</td>\n",
              "      <td>2021</td>\n",
              "      <td>449</td>\n",
              "      <td>FL-2021-000110</td>\n",
              "      <td>Natural</td>\n",
              "      <td>Hydrological</td>\n",
              "      <td>Flood</td>\n",
              "      <td>NaN</td>\n",
              "      <td>NaN</td>\n",
              "      <td>NaN</td>\n",
              "      <td>...</td>\n",
              "      <td>NaN</td>\n",
              "      <td>NaN</td>\n",
              "      <td>NaN</td>\n",
              "      <td>NaN</td>\n",
              "      <td>NaN</td>\n",
              "      <td>100</td>\n",
              "      <td>1</td>\n",
              "      <td>3408;3410;3411;3412;3413;3414;3415;3416;3418;3...</td>\n",
              "      <td>NaN</td>\n",
              "      <td>Al Bayda, Al Dhale'e, Al Hudaydah, Al Jawf, Al...</td>\n",
              "    </tr>\n",
              "  </tbody>\n",
              "</table>\n",
              "<p>175 rows × 51 columns</p>\n",
              "</div>\n",
              "      <button class=\"colab-df-convert\" onclick=\"convertToInteractive('df-0974f67a-72a3-4c99-80bd-ade150c01c54')\"\n",
              "              title=\"Convert this dataframe to an interactive table.\"\n",
              "              style=\"display:none;\">\n",
              "        \n",
              "  <svg xmlns=\"http://www.w3.org/2000/svg\" height=\"24px\"viewBox=\"0 0 24 24\"\n",
              "       width=\"24px\">\n",
              "    <path d=\"M0 0h24v24H0V0z\" fill=\"none\"/>\n",
              "    <path d=\"M18.56 5.44l.94 2.06.94-2.06 2.06-.94-2.06-.94-.94-2.06-.94 2.06-2.06.94zm-11 1L8.5 8.5l.94-2.06 2.06-.94-2.06-.94L8.5 2.5l-.94 2.06-2.06.94zm10 10l.94 2.06.94-2.06 2.06-.94-2.06-.94-.94-2.06-.94 2.06-2.06.94z\"/><path d=\"M17.41 7.96l-1.37-1.37c-.4-.4-.92-.59-1.43-.59-.52 0-1.04.2-1.43.59L10.3 9.45l-7.72 7.72c-.78.78-.78 2.05 0 2.83L4 21.41c.39.39.9.59 1.41.59.51 0 1.02-.2 1.41-.59l7.78-7.78 2.81-2.81c.8-.78.8-2.07 0-2.86zM5.41 20L4 18.59l7.72-7.72 1.47 1.35L5.41 20z\"/>\n",
              "  </svg>\n",
              "      </button>\n",
              "      \n",
              "  <style>\n",
              "    .colab-df-container {\n",
              "      display:flex;\n",
              "      flex-wrap:wrap;\n",
              "      gap: 12px;\n",
              "    }\n",
              "\n",
              "    .colab-df-convert {\n",
              "      background-color: #E8F0FE;\n",
              "      border: none;\n",
              "      border-radius: 50%;\n",
              "      cursor: pointer;\n",
              "      display: none;\n",
              "      fill: #1967D2;\n",
              "      height: 32px;\n",
              "      padding: 0 0 0 0;\n",
              "      width: 32px;\n",
              "    }\n",
              "\n",
              "    .colab-df-convert:hover {\n",
              "      background-color: #E2EBFA;\n",
              "      box-shadow: 0px 1px 2px rgba(60, 64, 67, 0.3), 0px 1px 3px 1px rgba(60, 64, 67, 0.15);\n",
              "      fill: #174EA6;\n",
              "    }\n",
              "\n",
              "    [theme=dark] .colab-df-convert {\n",
              "      background-color: #3B4455;\n",
              "      fill: #D2E3FC;\n",
              "    }\n",
              "\n",
              "    [theme=dark] .colab-df-convert:hover {\n",
              "      background-color: #434B5C;\n",
              "      box-shadow: 0px 1px 3px 1px rgba(0, 0, 0, 0.15);\n",
              "      filter: drop-shadow(0px 1px 2px rgba(0, 0, 0, 0.3));\n",
              "      fill: #FFFFFF;\n",
              "    }\n",
              "  </style>\n",
              "\n",
              "      <script>\n",
              "        const buttonEl =\n",
              "          document.querySelector('#df-0974f67a-72a3-4c99-80bd-ade150c01c54 button.colab-df-convert');\n",
              "        buttonEl.style.display =\n",
              "          google.colab.kernel.accessAllowed ? 'block' : 'none';\n",
              "\n",
              "        async function convertToInteractive(key) {\n",
              "          const element = document.querySelector('#df-0974f67a-72a3-4c99-80bd-ade150c01c54');\n",
              "          const dataTable =\n",
              "            await google.colab.kernel.invokeFunction('convertToInteractive',\n",
              "                                                     [key], {});\n",
              "          if (!dataTable) return;\n",
              "\n",
              "          const docLinkHtml = 'Like what you see? Visit the ' +\n",
              "            '<a target=\"_blank\" href=https://colab.research.google.com/notebooks/data_table.ipynb>data table notebook</a>'\n",
              "            + ' to learn more about interactive tables.';\n",
              "          element.innerHTML = '';\n",
              "          dataTable['output_type'] = 'display_data';\n",
              "          await google.colab.output.renderOutput(dataTable, element);\n",
              "          const docLink = document.createElement('div');\n",
              "          docLink.innerHTML = docLinkHtml;\n",
              "          element.appendChild(docLink);\n",
              "        }\n",
              "      </script>\n",
              "    </div>\n",
              "  </div>\n",
              "  "
            ]
          },
          "metadata": {},
          "execution_count": 3
        }
      ]
    },
    {
      "cell_type": "markdown",
      "source": [
        "Check Missing Value"
      ],
      "metadata": {
        "id": "UfJ1jrEvUlDd"
      }
    },
    {
      "cell_type": "code",
      "source": [
        "import missingno as msno\n",
        "%matplotlib inline"
      ],
      "metadata": {
        "id": "IN7Xd7niUNJA"
      },
      "execution_count": null,
      "outputs": []
    },
    {
      "cell_type": "code",
      "source": [
        "# Gives positional information of the missing values\n",
        "msno.matrix(data[{'Total Deaths','Total Affected','Total Damages'}])"
      ],
      "metadata": {
        "colab": {
          "base_uri": "https://localhost:8080/",
          "height": 624
        },
        "id": "9kZRrD3uUnI2",
        "outputId": "792f0bc4-74d6-4d8b-8978-2ebfb8f077f4"
      },
      "execution_count": null,
      "outputs": [
        {
          "output_type": "execute_result",
          "data": {
            "text/plain": [
              "<matplotlib.axes._subplots.AxesSubplot at 0x7fc3791be210>"
            ]
          },
          "metadata": {},
          "execution_count": 5
        },
        {
          "output_type": "display_data",
          "data": {
            "text/plain": [
              "<Figure size 1800x720 with 2 Axes>"
            ],
            "image/png": "[encoded data removed]"
          },
          "metadata": {
            "needs_background": "light"
          }
        }
      ]
    },
    {
      "cell_type": "code",
      "source": [
        "data['Total Deaths'].sort_values()"
      ],
      "metadata": {
        "colab": {
          "base_uri": "https://localhost:8080/"
        },
        "id": "JyIesJGwxw1t",
        "outputId": "0d142d68-e971-4c05-8f3d-65eebf488b8b"
      },
      "execution_count": null,
      "outputs": [
        {
          "output_type": "execute_result",
          "data": {
            "text/plain": [
              "93     1.0\n",
              "148    1.0\n",
              "134    1.0\n",
              "17     1.0\n",
              "32     1.0\n",
              "      ... \n",
              "150    NaN\n",
              "155    NaN\n",
              "158    NaN\n",
              "159    NaN\n",
              "169    NaN\n",
              "Name: Total Deaths, Length: 175, dtype: float64"
            ]
          },
          "metadata": {},
          "execution_count": 6
        }
      ]
    },
    {
      "cell_type": "code",
      "source": [
        "data['Total Affected'].sort_values()"
      ],
      "metadata": {
        "colab": {
          "base_uri": "https://localhost:8080/"
        },
        "id": "AiO_OsMKx_Xh",
        "outputId": "cdc88986-f0b4-46e7-afb0-05dd94898ccc"
      },
      "execution_count": null,
      "outputs": [
        {
          "output_type": "execute_result",
          "data": {
            "text/plain": [
              "120     4.0\n",
              "164     6.0\n",
              "121     6.0\n",
              "18      8.0\n",
              "117    10.0\n",
              "       ... \n",
              "127     NaN\n",
              "149     NaN\n",
              "150     NaN\n",
              "153     NaN\n",
              "172     NaN\n",
              "Name: Total Affected, Length: 175, dtype: float64"
            ]
          },
          "metadata": {},
          "execution_count": 7
        }
      ]
    },
    {
      "cell_type": "code",
      "source": [
        "data['Total Damages'].sort_values()"
      ],
      "metadata": {
        "colab": {
          "base_uri": "https://localhost:8080/"
        },
        "id": "Nyd_ulOrVHRx",
        "outputId": "d2294c92-97b4-42bd-d97b-b1116465c3a5"
      },
      "execution_count": null,
      "outputs": [
        {
          "output_type": "execute_result",
          "data": {
            "text/plain": [
              "101     120.0\n",
              "131     240.0\n",
              "12     2500.0\n",
              "137    3114.0\n",
              "165    7500.0\n",
              "        ...  \n",
              "169       NaN\n",
              "170       NaN\n",
              "171       NaN\n",
              "173       NaN\n",
              "174       NaN\n",
              "Name: Total Damages, Length: 175, dtype: float64"
            ]
          },
          "metadata": {},
          "execution_count": 8
        }
      ]
    },
    {
      "cell_type": "markdown",
      "source": [
        "Fill Missing Value with 0"
      ],
      "metadata": {
        "id": "_K4TGlx9VZWm"
      }
    },
    {
      "cell_type": "code",
      "source": [
        "data['Total Deaths'][data['Total Deaths'].isna()==True]=0"
      ],
      "metadata": {
        "colab": {
          "base_uri": "https://localhost:8080/"
        },
        "id": "zGbORUepVRpV",
        "outputId": "7702b6c0-4e5c-4009-ae5d-3b6692c6e8b5"
      },
      "execution_count": null,
      "outputs": [
        {
          "output_type": "stream",
          "name": "stderr",
          "text": [
            "/usr/local/lib/python3.7/dist-packages/ipykernel_launcher.py:1: SettingWithCopyWarning: \n",
            "A value is trying to be set on a copy of a slice from a DataFrame\n",
            "\n",
            "See the caveats in the documentation: https://pandas.pydata.org/pandas-docs/stable/user_guide/indexing.html#returning-a-view-versus-a-copy\n",
            "  \"\"\"Entry point for launching an IPython kernel.\n"
          ]
        }
      ]
    },
    {
      "cell_type": "code",
      "source": [
        "data['Total Affected'][data['Total Affected'].isna()==True]=0"
      ],
      "metadata": {
        "colab": {
          "base_uri": "https://localhost:8080/"
        },
        "id": "THyA09aUyPJ-",
        "outputId": "340f2711-40a8-4342-ed8d-06b6a02b7d30"
      },
      "execution_count": null,
      "outputs": [
        {
          "output_type": "stream",
          "name": "stderr",
          "text": [
            "/usr/local/lib/python3.7/dist-packages/ipykernel_launcher.py:1: SettingWithCopyWarning: \n",
            "A value is trying to be set on a copy of a slice from a DataFrame\n",
            "\n",
            "See the caveats in the documentation: https://pandas.pydata.org/pandas-docs/stable/user_guide/indexing.html#returning-a-view-versus-a-copy\n",
            "  \"\"\"Entry point for launching an IPython kernel.\n"
          ]
        }
      ]
    },
    {
      "cell_type": "code",
      "source": [
        "data['Total Damages'][data['Total Damages'].isna()==True]=0"
      ],
      "metadata": {
        "colab": {
          "base_uri": "https://localhost:8080/"
        },
        "id": "oTcZOiq2yZ6E",
        "outputId": "5ead3843-b11b-46a1-898d-f8cc189ff3db"
      },
      "execution_count": null,
      "outputs": [
        {
          "output_type": "stream",
          "name": "stderr",
          "text": [
            "/usr/local/lib/python3.7/dist-packages/ipykernel_launcher.py:1: SettingWithCopyWarning: \n",
            "A value is trying to be set on a copy of a slice from a DataFrame\n",
            "\n",
            "See the caveats in the documentation: https://pandas.pydata.org/pandas-docs/stable/user_guide/indexing.html#returning-a-view-versus-a-copy\n",
            "  \"\"\"Entry point for launching an IPython kernel.\n"
          ]
        }
      ]
    },
    {
      "cell_type": "markdown",
      "source": [
        "Data Unique Check "
      ],
      "metadata": {
        "id": "iyc_NADZmRmp"
      }
    },
    {
      "cell_type": "code",
      "source": [
        "data_clustering = pd.DataFrame({'Code':data['Code'],'Total Deaths':data['Total Deaths'],'Total Affected':data['Total Affected'],'Total Damages':data['Total Damages']})"
      ],
      "metadata": {
        "id": "6CLS95INVg5r"
      },
      "execution_count": null,
      "outputs": []
    },
    {
      "cell_type": "code",
      "source": [
        "data_clustering"
      ],
      "metadata": {
        "colab": {
          "base_uri": "https://localhost:8080/",
          "height": 423
        },
        "id": "i5XTWE60VnZi",
        "outputId": "1bc19e08-b976-4fdf-e65e-71886c298652"
      },
      "execution_count": null,
      "outputs": [
        {
          "output_type": "execute_result",
          "data": {
            "text/plain": [
              "     Code  Total Deaths  Total Affected  Total Damages\n",
              "0       1           0.0      11000000.0            0.0\n",
              "1       1         116.0         30833.0            0.0\n",
              "2       1         260.0          4200.0            0.0\n",
              "3       1          20.0             0.0            0.0\n",
              "4       2          21.0        268744.0            0.0\n",
              "..    ...           ...             ...            ...\n",
              "170    35           3.0           180.0            0.0\n",
              "171    35           2.0           310.0            0.0\n",
              "172    35           3.0             0.0         9000.0\n",
              "173    36          13.0         22380.0            0.0\n",
              "174    36          11.0         67980.0            0.0\n",
              "\n",
              "[175 rows x 4 columns]"
            ],
            "text/html": [
              "\n",
              "  <div id=\"df-a33cc43a-2f0a-484f-9bce-18a522ea1d17\">\n",
              "    <div class=\"colab-df-container\">\n",
              "      <div>\n",
              "<style scoped>\n",
              "    .dataframe tbody tr th:only-of-type {\n",
              "        vertical-align: middle;\n",
              "    }\n",
              "\n",
              "    .dataframe tbody tr th {\n",
              "        vertical-align: top;\n",
              "    }\n",
              "\n",
              "    .dataframe thead th {\n",
              "        text-align: right;\n",
              "    }\n",
              "</style>\n",
              "<table border=\"1\" class=\"dataframe\">\n",
              "  <thead>\n",
              "    <tr style=\"text-align: right;\">\n",
              "      <th></th>\n",
              "      <th>Code</th>\n",
              "      <th>Total Deaths</th>\n",
              "      <th>Total Affected</th>\n",
              "      <th>Total Damages</th>\n",
              "    </tr>\n",
              "  </thead>\n",
              "  <tbody>\n",
              "    <tr>\n",
              "      <th>0</th>\n",
              "      <td>1</td>\n",
              "      <td>0.0</td>\n",
              "      <td>11000000.0</td>\n",
              "      <td>0.0</td>\n",
              "    </tr>\n",
              "    <tr>\n",
              "      <th>1</th>\n",
              "      <td>1</td>\n",
              "      <td>116.0</td>\n",
              "      <td>30833.0</td>\n",
              "      <td>0.0</td>\n",
              "    </tr>\n",
              "    <tr>\n",
              "      <th>2</th>\n",
              "      <td>1</td>\n",
              "      <td>260.0</td>\n",
              "      <td>4200.0</td>\n",
              "      <td>0.0</td>\n",
              "    </tr>\n",
              "    <tr>\n",
              "      <th>3</th>\n",
              "      <td>1</td>\n",
              "      <td>20.0</td>\n",
              "      <td>0.0</td>\n",
              "      <td>0.0</td>\n",
              "    </tr>\n",
              "    <tr>\n",
              "      <th>4</th>\n",
              "      <td>2</td>\n",
              "      <td>21.0</td>\n",
              "      <td>268744.0</td>\n",
              "      <td>0.0</td>\n",
              "    </tr>\n",
              "    <tr>\n",
              "      <th>...</th>\n",
              "      <td>...</td>\n",
              "      <td>...</td>\n",
              "      <td>...</td>\n",
              "      <td>...</td>\n",
              "    </tr>\n",
              "    <tr>\n",
              "      <th>170</th>\n",
              "      <td>35</td>\n",
              "      <td>3.0</td>\n",
              "      <td>180.0</td>\n",
              "      <td>0.0</td>\n",
              "    </tr>\n",
              "    <tr>\n",
              "      <th>171</th>\n",
              "      <td>35</td>\n",
              "      <td>2.0</td>\n",
              "      <td>310.0</td>\n",
              "      <td>0.0</td>\n",
              "    </tr>\n",
              "    <tr>\n",
              "      <th>172</th>\n",
              "      <td>35</td>\n",
              "      <td>3.0</td>\n",
              "      <td>0.0</td>\n",
              "      <td>9000.0</td>\n",
              "    </tr>\n",
              "    <tr>\n",
              "      <th>173</th>\n",
              "      <td>36</td>\n",
              "      <td>13.0</td>\n",
              "      <td>22380.0</td>\n",
              "      <td>0.0</td>\n",
              "    </tr>\n",
              "    <tr>\n",
              "      <th>174</th>\n",
              "      <td>36</td>\n",
              "      <td>11.0</td>\n",
              "      <td>67980.0</td>\n",
              "      <td>0.0</td>\n",
              "    </tr>\n",
              "  </tbody>\n",
              "</table>\n",
              "<p>175 rows × 4 columns</p>\n",
              "</div>\n",
              "      <button class=\"colab-df-convert\" onclick=\"convertToInteractive('df-a33cc43a-2f0a-484f-9bce-18a522ea1d17')\"\n",
              "              title=\"Convert this dataframe to an interactive table.\"\n",
              "              style=\"display:none;\">\n",
              "        \n",
              "  <svg xmlns=\"http://www.w3.org/2000/svg\" height=\"24px\"viewBox=\"0 0 24 24\"\n",
              "       width=\"24px\">\n",
              "    <path d=\"M0 0h24v24H0V0z\" fill=\"none\"/>\n",
              "    <path d=\"M18.56 5.44l.94 2.06.94-2.06 2.06-.94-2.06-.94-.94-2.06-.94 2.06-2.06.94zm-11 1L8.5 8.5l.94-2.06 2.06-.94-2.06-.94L8.5 2.5l-.94 2.06-2.06.94zm10 10l.94 2.06.94-2.06 2.06-.94-2.06-.94-.94-2.06-.94 2.06-2.06.94z\"/><path d=\"M17.41 7.96l-1.37-1.37c-.4-.4-.92-.59-1.43-.59-.52 0-1.04.2-1.43.59L10.3 9.45l-7.72 7.72c-.78.78-.78 2.05 0 2.83L4 21.41c.39.39.9.59 1.41.59.51 0 1.02-.2 1.41-.59l7.78-7.78 2.81-2.81c.8-.78.8-2.07 0-2.86zM5.41 20L4 18.59l7.72-7.72 1.47 1.35L5.41 20z\"/>\n",
              "  </svg>\n",
              "      </button>\n",
              "      \n",
              "  <style>\n",
              "    .colab-df-container {\n",
              "      display:flex;\n",
              "      flex-wrap:wrap;\n",
              "      gap: 12px;\n",
              "    }\n",
              "\n",
              "    .colab-df-convert {\n",
              "      background-color: #E8F0FE;\n",
              "      border: none;\n",
              "      border-radius: 50%;\n",
              "      cursor: pointer;\n",
              "      display: none;\n",
              "      fill: #1967D2;\n",
              "      height: 32px;\n",
              "      padding: 0 0 0 0;\n",
              "      width: 32px;\n",
              "    }\n",
              "\n",
              "    .colab-df-convert:hover {\n",
              "      background-color: #E2EBFA;\n",
              "      box-shadow: 0px 1px 2px rgba(60, 64, 67, 0.3), 0px 1px 3px 1px rgba(60, 64, 67, 0.15);\n",
              "      fill: #174EA6;\n",
              "    }\n",
              "\n",
              "    [theme=dark] .colab-df-convert {\n",
              "      background-color: #3B4455;\n",
              "      fill: #D2E3FC;\n",
              "    }\n",
              "\n",
              "    [theme=dark] .colab-df-convert:hover {\n",
              "      background-color: #434B5C;\n",
              "      box-shadow: 0px 1px 3px 1px rgba(0, 0, 0, 0.15);\n",
              "      filter: drop-shadow(0px 1px 2px rgba(0, 0, 0, 0.3));\n",
              "      fill: #FFFFFF;\n",
              "    }\n",
              "  </style>\n",
              "\n",
              "      <script>\n",
              "        const buttonEl =\n",
              "          document.querySelector('#df-a33cc43a-2f0a-484f-9bce-18a522ea1d17 button.colab-df-convert');\n",
              "        buttonEl.style.display =\n",
              "          google.colab.kernel.accessAllowed ? 'block' : 'none';\n",
              "\n",
              "        async function convertToInteractive(key) {\n",
              "          const element = document.querySelector('#df-a33cc43a-2f0a-484f-9bce-18a522ea1d17');\n",
              "          const dataTable =\n",
              "            await google.colab.kernel.invokeFunction('convertToInteractive',\n",
              "                                                     [key], {});\n",
              "          if (!dataTable) return;\n",
              "\n",
              "          const docLinkHtml = 'Like what you see? Visit the ' +\n",
              "            '<a target=\"_blank\" href=https://colab.research.google.com/notebooks/data_table.ipynb>data table notebook</a>'\n",
              "            + ' to learn more about interactive tables.';\n",
              "          element.innerHTML = '';\n",
              "          dataTable['output_type'] = 'display_data';\n",
              "          await google.colab.output.renderOutput(dataTable, element);\n",
              "          const docLink = document.createElement('div');\n",
              "          docLink.innerHTML = docLinkHtml;\n",
              "          element.appendChild(docLink);\n",
              "        }\n",
              "      </script>\n",
              "    </div>\n",
              "  </div>\n",
              "  "
            ]
          },
          "metadata": {},
          "execution_count": 13
        }
      ]
    },
    {
      "cell_type": "code",
      "source": [
        "data_clustering['Code'].value_counts()"
      ],
      "metadata": {
        "colab": {
          "base_uri": "https://localhost:8080/"
        },
        "id": "CvlCHirUVx-s",
        "outputId": "6af9d5e5-e90e-4e4a-e94a-6e2de8d373b2"
      },
      "execution_count": null,
      "outputs": [
        {
          "output_type": "execute_result",
          "data": {
            "text/plain": [
              "10    28\n",
              "9     19\n",
              "5     17\n",
              "26    14\n",
              "19     8\n",
              "35     8\n",
              "25     8\n",
              "11     7\n",
              "13     6\n",
              "31     6\n",
              "27     5\n",
              "23     4\n",
              "1      4\n",
              "4      4\n",
              "12     3\n",
              "33     3\n",
              "30     3\n",
              "8      2\n",
              "3      2\n",
              "29     2\n",
              "28     2\n",
              "24     2\n",
              "36     2\n",
              "21     2\n",
              "2      2\n",
              "18     2\n",
              "22     1\n",
              "15     1\n",
              "7      1\n",
              "6      1\n",
              "20     1\n",
              "32     1\n",
              "17     1\n",
              "34     1\n",
              "16     1\n",
              "14     1\n",
              "Name: Code, dtype: int64"
            ]
          },
          "metadata": {},
          "execution_count": 14
        }
      ]
    },
    {
      "cell_type": "code",
      "source": [
        "data_clustering = data_clustering.groupby('Code').sum()"
      ],
      "metadata": {
        "id": "IgWvA3-hVsVK"
      },
      "execution_count": null,
      "outputs": []
    },
    {
      "cell_type": "code",
      "source": [
        "data_clustering"
      ],
      "metadata": {
        "colab": {
          "base_uri": "https://localhost:8080/",
          "height": 1000
        },
        "id": "7nywA8uDV6Kl",
        "outputId": "95afec97-7c52-42ff-ad74-6d74840dc12a"
      },
      "execution_count": null,
      "outputs": [
        {
          "output_type": "execute_result",
          "data": {
            "text/plain": [
              "      Total Deaths  Total Affected  Total Damages\n",
              "Code                                             \n",
              "1            396.0      11035033.0            0.0\n",
              "2             24.0       1568744.0            0.0\n",
              "3             10.0           502.0            0.0\n",
              "4              1.0         13726.0            0.0\n",
              "5            455.0      17888974.0     25556500.0\n",
              "6              4.0           150.0        47000.0\n",
              "7              0.0          1780.0            0.0\n",
              "8              2.0           175.0            0.0\n",
              "9           2126.0       3833811.0      7810000.0\n",
              "10           492.0       1579329.0       928700.0\n",
              "11            26.0       2649012.0       175000.0\n",
              "12            16.0       7010703.0        14000.0\n",
              "13            62.0         40097.0     10600000.0\n",
              "14             0.0         71000.0            0.0\n",
              "15             0.0          5000.0            0.0\n",
              "16             0.0           600.0        13000.0\n",
              "17            15.0             0.0            0.0\n",
              "18             0.0         26000.0          120.0\n",
              "19            75.0        103073.0       200000.0\n",
              "20             0.0          1320.0            0.0\n",
              "21            12.0         13800.0            0.0\n",
              "22             0.0        125000.0            0.0\n",
              "23           251.0          3941.0            0.0\n",
              "24            20.0            90.0        80000.0\n",
              "25           264.0         67213.0        10000.0\n",
              "26           572.0      12471679.0      1077753.0\n",
              "27            35.0        330777.0            0.0\n",
              "28             1.0       5642003.0            0.0\n",
              "29            18.0             0.0            0.0\n",
              "30            24.0         25110.0         9000.0\n",
              "31            16.0        958594.0       591000.0\n",
              "32            41.0        143670.0            0.0\n",
              "33            82.0        568248.0       545000.0\n",
              "34             8.0             6.0            0.0\n",
              "35            35.0        398343.0        26500.0\n",
              "36            24.0         90360.0            0.0"
            ],
            "text/html": [
              "\n",
              "  <div id=\"df-01804ff4-27c8-4727-87ba-4eb4df3365c1\">\n",
              "    <div class=\"colab-df-container\">\n",
              "      <div>\n",
              "<style scoped>\n",
              "    .dataframe tbody tr th:only-of-type {\n",
              "        vertical-align: middle;\n",
              "    }\n",
              "\n",
              "    .dataframe tbody tr th {\n",
              "        vertical-align: top;\n",
              "    }\n",
              "\n",
              "    .dataframe thead th {\n",
              "        text-align: right;\n",
              "    }\n",
              "</style>\n",
              "<table border=\"1\" class=\"dataframe\">\n",
              "  <thead>\n",
              "    <tr style=\"text-align: right;\">\n",
              "      <th></th>\n",
              "      <th>Total Deaths</th>\n",
              "      <th>Total Affected</th>\n",
              "      <th>Total Damages</th>\n",
              "    </tr>\n",
              "    <tr>\n",
              "      <th>Code</th>\n",
              "      <th></th>\n",
              "      <th></th>\n",
              "      <th></th>\n",
              "    </tr>\n",
              "  </thead>\n",
              "  <tbody>\n",
              "    <tr>\n",
              "      <th>1</th>\n",
              "      <td>396.0</td>\n",
              "      <td>11035033.0</td>\n",
              "      <td>0.0</td>\n",
              "    </tr>\n",
              "    <tr>\n",
              "      <th>2</th>\n",
              "      <td>24.0</td>\n",
              "      <td>1568744.0</td>\n",
              "      <td>0.0</td>\n",
              "    </tr>\n",
              "    <tr>\n",
              "      <th>3</th>\n",
              "      <td>10.0</td>\n",
              "      <td>502.0</td>\n",
              "      <td>0.0</td>\n",
              "    </tr>\n",
              "    <tr>\n",
              "      <th>4</th>\n",
              "      <td>1.0</td>\n",
              "      <td>13726.0</td>\n",
              "      <td>0.0</td>\n",
              "    </tr>\n",
              "    <tr>\n",
              "      <th>5</th>\n",
              "      <td>455.0</td>\n",
              "      <td>17888974.0</td>\n",
              "      <td>25556500.0</td>\n",
              "    </tr>\n",
              "    <tr>\n",
              "      <th>6</th>\n",
              "      <td>4.0</td>\n",
              "      <td>150.0</td>\n",
              "      <td>47000.0</td>\n",
              "    </tr>\n",
              "    <tr>\n",
              "      <th>7</th>\n",
              "      <td>0.0</td>\n",
              "      <td>1780.0</td>\n",
              "      <td>0.0</td>\n",
              "    </tr>\n",
              "    <tr>\n",
              "      <th>8</th>\n",
              "      <td>2.0</td>\n",
              "      <td>175.0</td>\n",
              "      <td>0.0</td>\n",
              "    </tr>\n",
              "    <tr>\n",
              "      <th>9</th>\n",
              "      <td>2126.0</td>\n",
              "      <td>3833811.0</td>\n",
              "      <td>7810000.0</td>\n",
              "    </tr>\n",
              "    <tr>\n",
              "      <th>10</th>\n",
              "      <td>492.0</td>\n",
              "      <td>1579329.0</td>\n",
              "      <td>928700.0</td>\n",
              "    </tr>\n",
              "    <tr>\n",
              "      <th>11</th>\n",
              "      <td>26.0</td>\n",
              "      <td>2649012.0</td>\n",
              "      <td>175000.0</td>\n",
              "    </tr>\n",
              "    <tr>\n",
              "      <th>12</th>\n",
              "      <td>16.0</td>\n",
              "      <td>7010703.0</td>\n",
              "      <td>14000.0</td>\n",
              "    </tr>\n",
              "    <tr>\n",
              "      <th>13</th>\n",
              "      <td>62.0</td>\n",
              "      <td>40097.0</td>\n",
              "      <td>10600000.0</td>\n",
              "    </tr>\n",
              "    <tr>\n",
              "      <th>14</th>\n",
              "      <td>0.0</td>\n",
              "      <td>71000.0</td>\n",
              "      <td>0.0</td>\n",
              "    </tr>\n",
              "    <tr>\n",
              "      <th>15</th>\n",
              "      <td>0.0</td>\n",
              "      <td>5000.0</td>\n",
              "      <td>0.0</td>\n",
              "    </tr>\n",
              "    <tr>\n",
              "      <th>16</th>\n",
              "      <td>0.0</td>\n",
              "      <td>600.0</td>\n",
              "      <td>13000.0</td>\n",
              "    </tr>\n",
              "    <tr>\n",
              "      <th>17</th>\n",
              "      <td>15.0</td>\n",
              "      <td>0.0</td>\n",
              "      <td>0.0</td>\n",
              "    </tr>\n",
              "    <tr>\n",
              "      <th>18</th>\n",
              "      <td>0.0</td>\n",
              "      <td>26000.0</td>\n",
              "      <td>120.0</td>\n",
              "    </tr>\n",
              "    <tr>\n",
              "      <th>19</th>\n",
              "      <td>75.0</td>\n",
              "      <td>103073.0</td>\n",
              "      <td>200000.0</td>\n",
              "    </tr>\n",
              "    <tr>\n",
              "      <th>20</th>\n",
              "      <td>0.0</td>\n",
              "      <td>1320.0</td>\n",
              "      <td>0.0</td>\n",
              "    </tr>\n",
              "    <tr>\n",
              "      <th>21</th>\n",
              "      <td>12.0</td>\n",
              "      <td>13800.0</td>\n",
              "      <td>0.0</td>\n",
              "    </tr>\n",
              "    <tr>\n",
              "      <th>22</th>\n",
              "      <td>0.0</td>\n",
              "      <td>125000.0</td>\n",
              "      <td>0.0</td>\n",
              "    </tr>\n",
              "    <tr>\n",
              "      <th>23</th>\n",
              "      <td>251.0</td>\n",
              "      <td>3941.0</td>\n",
              "      <td>0.0</td>\n",
              "    </tr>\n",
              "    <tr>\n",
              "      <th>24</th>\n",
              "      <td>20.0</td>\n",
              "      <td>90.0</td>\n",
              "      <td>80000.0</td>\n",
              "    </tr>\n",
              "    <tr>\n",
              "      <th>25</th>\n",
              "      <td>264.0</td>\n",
              "      <td>67213.0</td>\n",
              "      <td>10000.0</td>\n",
              "    </tr>\n",
              "    <tr>\n",
              "      <th>26</th>\n",
              "      <td>572.0</td>\n",
              "      <td>12471679.0</td>\n",
              "      <td>1077753.0</td>\n",
              "    </tr>\n",
              "    <tr>\n",
              "      <th>27</th>\n",
              "      <td>35.0</td>\n",
              "      <td>330777.0</td>\n",
              "      <td>0.0</td>\n",
              "    </tr>\n",
              "    <tr>\n",
              "      <th>28</th>\n",
              "      <td>1.0</td>\n",
              "      <td>5642003.0</td>\n",
              "      <td>0.0</td>\n",
              "    </tr>\n",
              "    <tr>\n",
              "      <th>29</th>\n",
              "      <td>18.0</td>\n",
              "      <td>0.0</td>\n",
              "      <td>0.0</td>\n",
              "    </tr>\n",
              "    <tr>\n",
              "      <th>30</th>\n",
              "      <td>24.0</td>\n",
              "      <td>25110.0</td>\n",
              "      <td>9000.0</td>\n",
              "    </tr>\n",
              "    <tr>\n",
              "      <th>31</th>\n",
              "      <td>16.0</td>\n",
              "      <td>958594.0</td>\n",
              "      <td>591000.0</td>\n",
              "    </tr>\n",
              "    <tr>\n",
              "      <th>32</th>\n",
              "      <td>41.0</td>\n",
              "      <td>143670.0</td>\n",
              "      <td>0.0</td>\n",
              "    </tr>\n",
              "    <tr>\n",
              "      <th>33</th>\n",
              "      <td>82.0</td>\n",
              "      <td>568248.0</td>\n",
              "      <td>545000.0</td>\n",
              "    </tr>\n",
              "    <tr>\n",
              "      <th>34</th>\n",
              "      <td>8.0</td>\n",
              "      <td>6.0</td>\n",
              "      <td>0.0</td>\n",
              "    </tr>\n",
              "    <tr>\n",
              "      <th>35</th>\n",
              "      <td>35.0</td>\n",
              "      <td>398343.0</td>\n",
              "      <td>26500.0</td>\n",
              "    </tr>\n",
              "    <tr>\n",
              "      <th>36</th>\n",
              "      <td>24.0</td>\n",
              "      <td>90360.0</td>\n",
              "      <td>0.0</td>\n",
              "    </tr>\n",
              "  </tbody>\n",
              "</table>\n",
              "</div>\n",
              "      <button class=\"colab-df-convert\" onclick=\"convertToInteractive('df-01804ff4-27c8-4727-87ba-4eb4df3365c1')\"\n",
              "              title=\"Convert this dataframe to an interactive table.\"\n",
              "              style=\"display:none;\">\n",
              "        \n",
              "  <svg xmlns=\"http://www.w3.org/2000/svg\" height=\"24px\"viewBox=\"0 0 24 24\"\n",
              "       width=\"24px\">\n",
              "    <path d=\"M0 0h24v24H0V0z\" fill=\"none\"/>\n",
              "    <path d=\"M18.56 5.44l.94 2.06.94-2.06 2.06-.94-2.06-.94-.94-2.06-.94 2.06-2.06.94zm-11 1L8.5 8.5l.94-2.06 2.06-.94-2.06-.94L8.5 2.5l-.94 2.06-2.06.94zm10 10l.94 2.06.94-2.06 2.06-.94-2.06-.94-.94-2.06-.94 2.06-2.06.94z\"/><path d=\"M17.41 7.96l-1.37-1.37c-.4-.4-.92-.59-1.43-.59-.52 0-1.04.2-1.43.59L10.3 9.45l-7.72 7.72c-.78.78-.78 2.05 0 2.83L4 21.41c.39.39.9.59 1.41.59.51 0 1.02-.2 1.41-.59l7.78-7.78 2.81-2.81c.8-.78.8-2.07 0-2.86zM5.41 20L4 18.59l7.72-7.72 1.47 1.35L5.41 20z\"/>\n",
              "  </svg>\n",
              "      </button>\n",
              "      \n",
              "  <style>\n",
              "    .colab-df-container {\n",
              "      display:flex;\n",
              "      flex-wrap:wrap;\n",
              "      gap: 12px;\n",
              "    }\n",
              "\n",
              "    .colab-df-convert {\n",
              "      background-color: #E8F0FE;\n",
              "      border: none;\n",
              "      border-radius: 50%;\n",
              "      cursor: pointer;\n",
              "      display: none;\n",
              "      fill: #1967D2;\n",
              "      height: 32px;\n",
              "      padding: 0 0 0 0;\n",
              "      width: 32px;\n",
              "    }\n",
              "\n",
              "    .colab-df-convert:hover {\n",
              "      background-color: #E2EBFA;\n",
              "      box-shadow: 0px 1px 2px rgba(60, 64, 67, 0.3), 0px 1px 3px 1px rgba(60, 64, 67, 0.15);\n",
              "      fill: #174EA6;\n",
              "    }\n",
              "\n",
              "    [theme=dark] .colab-df-convert {\n",
              "      background-color: #3B4455;\n",
              "      fill: #D2E3FC;\n",
              "    }\n",
              "\n",
              "    [theme=dark] .colab-df-convert:hover {\n",
              "      background-color: #434B5C;\n",
              "      box-shadow: 0px 1px 3px 1px rgba(0, 0, 0, 0.15);\n",
              "      filter: drop-shadow(0px 1px 2px rgba(0, 0, 0, 0.3));\n",
              "      fill: #FFFFFF;\n",
              "    }\n",
              "  </style>\n",
              "\n",
              "      <script>\n",
              "        const buttonEl =\n",
              "          document.querySelector('#df-01804ff4-27c8-4727-87ba-4eb4df3365c1 button.colab-df-convert');\n",
              "        buttonEl.style.display =\n",
              "          google.colab.kernel.accessAllowed ? 'block' : 'none';\n",
              "\n",
              "        async function convertToInteractive(key) {\n",
              "          const element = document.querySelector('#df-01804ff4-27c8-4727-87ba-4eb4df3365c1');\n",
              "          const dataTable =\n",
              "            await google.colab.kernel.invokeFunction('convertToInteractive',\n",
              "                                                     [key], {});\n",
              "          if (!dataTable) return;\n",
              "\n",
              "          const docLinkHtml = 'Like what you see? Visit the ' +\n",
              "            '<a target=\"_blank\" href=https://colab.research.google.com/notebooks/data_table.ipynb>data table notebook</a>'\n",
              "            + ' to learn more about interactive tables.';\n",
              "          element.innerHTML = '';\n",
              "          dataTable['output_type'] = 'display_data';\n",
              "          await google.colab.output.renderOutput(dataTable, element);\n",
              "          const docLink = document.createElement('div');\n",
              "          docLink.innerHTML = docLinkHtml;\n",
              "          element.appendChild(docLink);\n",
              "        }\n",
              "      </script>\n",
              "    </div>\n",
              "  </div>\n",
              "  "
            ]
          },
          "metadata": {},
          "execution_count": 16
        }
      ]
    },
    {
      "cell_type": "code",
      "source": [
        "sns.set(font_scale=1.3)\n",
        "data_clustering.boxplot(column=['Total Deaths'])"
      ],
      "metadata": {
        "colab": {
          "base_uri": "https://localhost:8080/",
          "height": 291
        },
        "id": "pFLoRKh2V8rF",
        "outputId": "72107126-442c-4f4c-bc32-472c90c9f975"
      },
      "execution_count": null,
      "outputs": [
        {
          "output_type": "execute_result",
          "data": {
            "text/plain": [
              "<matplotlib.axes._subplots.AxesSubplot at 0x7fc3763fdcd0>"
            ]
          },
          "metadata": {},
          "execution_count": 17
        },
        {
          "output_type": "display_data",
          "data": {
            "text/plain": [
              "<Figure size 432x288 with 1 Axes>"
            ],
            "image/png": "[encoded data removed]"
          },
          "metadata": {}
        }
      ]
    },
    {
      "cell_type": "code",
      "source": [
        "data_clustering.boxplot(column=['Total Affected'])"
      ],
      "metadata": {
        "colab": {
          "base_uri": "https://localhost:8080/",
          "height": 304
        },
        "id": "2vrkOc_GWBvG",
        "outputId": "594706ca-3233-43f8-95d6-7753e72fd04c"
      },
      "execution_count": null,
      "outputs": [
        {
          "output_type": "execute_result",
          "data": {
            "text/plain": [
              "<matplotlib.axes._subplots.AxesSubplot at 0x7fc3763fd310>"
            ]
          },
          "metadata": {},
          "execution_count": 18
        },
        {
          "output_type": "display_data",
          "data": {
            "text/plain": [
              "<Figure size 432x288 with 1 Axes>"
            ],
            "image/png": "[encoded data removed]"
          },
          "metadata": {}
        }
      ]
    },
    {
      "cell_type": "code",
      "source": [
        "data_clustering.boxplot(column=['Total Damages'])"
      ],
      "metadata": {
        "colab": {
          "base_uri": "https://localhost:8080/",
          "height": 304
        },
        "id": "Br3AlL7bWFLu",
        "outputId": "27cf84c3-14bc-4684-f150-2b04e6a4ec41"
      },
      "execution_count": null,
      "outputs": [
        {
          "output_type": "execute_result",
          "data": {
            "text/plain": [
              "<matplotlib.axes._subplots.AxesSubplot at 0x7fc37630de10>"
            ]
          },
          "metadata": {},
          "execution_count": 19
        },
        {
          "output_type": "display_data",
          "data": {
            "text/plain": [
              "<Figure size 432x288 with 1 Axes>"
            ],
            "image/png": "[encoded data removed]"
          },
          "metadata": {}
        }
      ]
    },
    {
      "cell_type": "markdown",
      "source": [
        "Check the assumption"
      ],
      "metadata": {
        "id": "NkAmBZe4XVcs"
      }
    },
    {
      "cell_type": "code",
      "source": [
        "%matplotlib inline\n",
        "correlation = data_clustering.corr()\n",
        "sns.heatmap(correlation,annot=True)"
      ],
      "metadata": {
        "colab": {
          "base_uri": "https://localhost:8080/",
          "height": 388
        },
        "id": "WzJRqbYuWKFc",
        "outputId": "9e4247ed-55c7-4514-db7f-140abe0302da"
      },
      "execution_count": null,
      "outputs": [
        {
          "output_type": "execute_result",
          "data": {
            "text/plain": [
              "<matplotlib.axes._subplots.AxesSubplot at 0x7fc3762f9910>"
            ]
          },
          "metadata": {},
          "execution_count": 20
        },
        {
          "output_type": "display_data",
          "data": {
            "text/plain": [
              "<Figure size 432x288 with 2 Axes>"
            ],
            "image/png": "[encoded data removed]"
          },
          "metadata": {
            "needs_background": "light"
          }
        }
      ]
    },
    {
      "cell_type": "markdown",
      "source": [
        "### K-Means Clustering"
      ],
      "metadata": {
        "id": "W_L5TOD1XSKt"
      }
    },
    {
      "cell_type": "code",
      "source": [
        "from sklearn.cluster import KMeans\n",
        "from sklearn.metrics import silhouette_score\n",
        "from sklearn.preprocessing import StandardScaler"
      ],
      "metadata": {
        "id": "W4aSv8vkWn88"
      },
      "execution_count": null,
      "outputs": []
    },
    {
      "cell_type": "code",
      "source": [
        "range_n_clusters = [2, 3, 4, 5, 6, 7, 8]\n",
        "silhouette_avg = []\n",
        "bestsilhoutte = 0"
      ],
      "metadata": {
        "id": "1kb3DrfNXZWt"
      },
      "execution_count": null,
      "outputs": []
    },
    {
      "cell_type": "code",
      "source": [
        "for num_clusters in range_n_clusters:\n",
        " \n",
        " # initialise KMeans\n",
        " kmeans = KMeans(init=\"random\", n_clusters=num_clusters, n_init=10, max_iter=300,random_state=42)\n",
        " #fit the clusters \n",
        " kmeans.fit(data_clustering)\n",
        " clusters = kmeans.labels_\n",
        " print(num_clusters)\n",
        " \n",
        " # silhouette score\n",
        " score = silhouette_score(data_clustering, clusters, metric='euclidean')\n",
        " print('Silhouetter Score: %.3f' % score)\n",
        " silhouette_avg.append(score)\n",
        "\n",
        " if score > bestsilhoutte:\n",
        "   bestclusters = clusters\n",
        "   bestsilhoutte = score"
      ],
      "metadata": {
        "colab": {
          "base_uri": "https://localhost:8080/"
        },
        "id": "iopWv6j4XgKo",
        "outputId": "c5af027c-6f9e-4a9c-80cf-766b5a002053"
      },
      "execution_count": null,
      "outputs": [
        {
          "output_type": "stream",
          "name": "stdout",
          "text": [
            "2\n",
            "Silhouetter Score: 0.776\n",
            "3\n",
            "Silhouetter Score: 0.755\n",
            "4\n",
            "Silhouetter Score: 0.830\n",
            "5\n",
            "Silhouetter Score: 0.720\n",
            "6\n",
            "Silhouetter Score: 0.675\n",
            "7\n",
            "Silhouetter Score: 0.513\n",
            "8\n",
            "Silhouetter Score: 0.550\n"
          ]
        }
      ]
    },
    {
      "cell_type": "code",
      "source": [
        "plt.plot(range_n_clusters,silhouette_avg,'bx-')\n",
        "plt.xlabel('Values of K') \n",
        "plt.ylabel('Silhouette score') \n",
        "plt.title('Silhouette analysis For Optimal k')\n",
        "plt.show()"
      ],
      "metadata": {
        "colab": {
          "base_uri": "https://localhost:8080/",
          "height": 309
        },
        "id": "ayIv0LanbDyn",
        "outputId": "50c2d84f-f071-4d2a-b67f-a4c4f5771af3"
      },
      "execution_count": null,
      "outputs": [
        {
          "output_type": "display_data",
          "data": {
            "text/plain": [
              "<Figure size 432x288 with 1 Axes>"
            ],
            "image/png": "[encoded data removed]"
          },
          "metadata": {
            "needs_background": "light"
          }
        }
      ]
    },
    {
      "cell_type": "code",
      "source": [
        "data_result_kmeans = data_clustering.copy()"
      ],
      "metadata": {
        "id": "oJnF2Nddb-RB"
      },
      "execution_count": null,
      "outputs": []
    },
    {
      "cell_type": "code",
      "source": [
        "data_result_kmeans['cluster'] = bestclusters"
      ],
      "metadata": {
        "id": "M8b8xfkkbqGe"
      },
      "execution_count": null,
      "outputs": []
    },
    {
      "cell_type": "code",
      "source": [
        "data_result_kmeans"
      ],
      "metadata": {
        "colab": {
          "base_uri": "https://localhost:8080/",
          "height": 1000
        },
        "id": "h6tG2mF8cKig",
        "outputId": "28a8cb5c-20ec-434a-9480-0202cf81d753"
      },
      "execution_count": null,
      "outputs": [
        {
          "output_type": "execute_result",
          "data": {
            "text/plain": [
              "      Total Deaths  Total Affected  Total Damages  cluster\n",
              "Code                                                      \n",
              "1            396.0      11035033.0            0.0        3\n",
              "2             24.0       1568744.0            0.0        2\n",
              "3             10.0           502.0            0.0        2\n",
              "4              1.0         13726.0            0.0        2\n",
              "5            455.0      17888974.0     25556500.0        0\n",
              "6              4.0           150.0        47000.0        2\n",
              "7              0.0          1780.0            0.0        2\n",
              "8              2.0           175.0            0.0        2\n",
              "9           2126.0       3833811.0      7810000.0        1\n",
              "10           492.0       1579329.0       928700.0        2\n",
              "11            26.0       2649012.0       175000.0        2\n",
              "12            16.0       7010703.0        14000.0        3\n",
              "13            62.0         40097.0     10600000.0        1\n",
              "14             0.0         71000.0            0.0        2\n",
              "15             0.0          5000.0            0.0        2\n",
              "16             0.0           600.0        13000.0        2\n",
              "17            15.0             0.0            0.0        2\n",
              "18             0.0         26000.0          120.0        2\n",
              "19            75.0        103073.0       200000.0        2\n",
              "20             0.0          1320.0            0.0        2\n",
              "21            12.0         13800.0            0.0        2\n",
              "22             0.0        125000.0            0.0        2\n",
              "23           251.0          3941.0            0.0        2\n",
              "24            20.0            90.0        80000.0        2\n",
              "25           264.0         67213.0        10000.0        2\n",
              "26           572.0      12471679.0      1077753.0        3\n",
              "27            35.0        330777.0            0.0        2\n",
              "28             1.0       5642003.0            0.0        3\n",
              "29            18.0             0.0            0.0        2\n",
              "30            24.0         25110.0         9000.0        2\n",
              "31            16.0        958594.0       591000.0        2\n",
              "32            41.0        143670.0            0.0        2\n",
              "33            82.0        568248.0       545000.0        2\n",
              "34             8.0             6.0            0.0        2\n",
              "35            35.0        398343.0        26500.0        2\n",
              "36            24.0         90360.0            0.0        2"
            ],
            "text/html": [
              "\n",
              "  <div id=\"df-908cabb5-f354-487a-a6d8-b1e5a5f71f63\">\n",
              "    <div class=\"colab-df-container\">\n",
              "      <div>\n",
              "<style scoped>\n",
              "    .dataframe tbody tr th:only-of-type {\n",
              "        vertical-align: middle;\n",
              "    }\n",
              "\n",
              "    .dataframe tbody tr th {\n",
              "        vertical-align: top;\n",
              "    }\n",
              "\n",
              "    .dataframe thead th {\n",
              "        text-align: right;\n",
              "    }\n",
              "</style>\n",
              "<table border=\"1\" class=\"dataframe\">\n",
              "  <thead>\n",
              "    <tr style=\"text-align: right;\">\n",
              "      <th></th>\n",
              "      <th>Total Deaths</th>\n",
              "      <th>Total Affected</th>\n",
              "      <th>Total Damages</th>\n",
              "      <th>cluster</th>\n",
              "    </tr>\n",
              "    <tr>\n",
              "      <th>Code</th>\n",
              "      <th></th>\n",
              "      <th></th>\n",
              "      <th></th>\n",
              "      <th></th>\n",
              "    </tr>\n",
              "  </thead>\n",
              "  <tbody>\n",
              "    <tr>\n",
              "      <th>1</th>\n",
              "      <td>396.0</td>\n",
              "      <td>11035033.0</td>\n",
              "      <td>0.0</td>\n",
              "      <td>3</td>\n",
              "    </tr>\n",
              "    <tr>\n",
              "      <th>2</th>\n",
              "      <td>24.0</td>\n",
              "      <td>1568744.0</td>\n",
              "      <td>0.0</td>\n",
              "      <td>2</td>\n",
              "    </tr>\n",
              "    <tr>\n",
              "      <th>3</th>\n",
              "      <td>10.0</td>\n",
              "      <td>502.0</td>\n",
              "      <td>0.0</td>\n",
              "      <td>2</td>\n",
              "    </tr>\n",
              "    <tr>\n",
              "      <th>4</th>\n",
              "      <td>1.0</td>\n",
              "      <td>13726.0</td>\n",
              "      <td>0.0</td>\n",
              "      <td>2</td>\n",
              "    </tr>\n",
              "    <tr>\n",
              "      <th>5</th>\n",
              "      <td>455.0</td>\n",
              "      <td>17888974.0</td>\n",
              "      <td>25556500.0</td>\n",
              "      <td>0</td>\n",
              "    </tr>\n",
              "    <tr>\n",
              "      <th>6</th>\n",
              "      <td>4.0</td>\n",
              "      <td>150.0</td>\n",
              "      <td>47000.0</td>\n",
              "      <td>2</td>\n",
              "    </tr>\n",
              "    <tr>\n",
              "      <th>7</th>\n",
              "      <td>0.0</td>\n",
              "      <td>1780.0</td>\n",
              "      <td>0.0</td>\n",
              "      <td>2</td>\n",
              "    </tr>\n",
              "    <tr>\n",
              "      <th>8</th>\n",
              "      <td>2.0</td>\n",
              "      <td>175.0</td>\n",
              "      <td>0.0</td>\n",
              "      <td>2</td>\n",
              "    </tr>\n",
              "    <tr>\n",
              "      <th>9</th>\n",
              "      <td>2126.0</td>\n",
              "      <td>3833811.0</td>\n",
              "      <td>7810000.0</td>\n",
              "      <td>1</td>\n",
              "    </tr>\n",
              "    <tr>\n",
              "      <th>10</th>\n",
              "      <td>492.0</td>\n",
              "      <td>1579329.0</td>\n",
              "      <td>928700.0</td>\n",
              "      <td>2</td>\n",
              "    </tr>\n",
              "    <tr>\n",
              "      <th>11</th>\n",
              "      <td>26.0</td>\n",
              "      <td>2649012.0</td>\n",
              "      <td>175000.0</td>\n",
              "      <td>2</td>\n",
              "    </tr>\n",
              "    <tr>\n",
              "      <th>12</th>\n",
              "      <td>16.0</td>\n",
              "      <td>7010703.0</td>\n",
              "      <td>14000.0</td>\n",
              "      <td>3</td>\n",
              "    </tr>\n",
              "    <tr>\n",
              "      <th>13</th>\n",
              "      <td>62.0</td>\n",
              "      <td>40097.0</td>\n",
              "      <td>10600000.0</td>\n",
              "      <td>1</td>\n",
              "    </tr>\n",
              "    <tr>\n",
              "      <th>14</th>\n",
              "      <td>0.0</td>\n",
              "      <td>71000.0</td>\n",
              "      <td>0.0</td>\n",
              "      <td>2</td>\n",
              "    </tr>\n",
              "    <tr>\n",
              "      <th>15</th>\n",
              "      <td>0.0</td>\n",
              "      <td>5000.0</td>\n",
              "      <td>0.0</td>\n",
              "      <td>2</td>\n",
              "    </tr>\n",
              "    <tr>\n",
              "      <th>16</th>\n",
              "      <td>0.0</td>\n",
              "      <td>600.0</td>\n",
              "      <td>13000.0</td>\n",
              "      <td>2</td>\n",
              "    </tr>\n",
              "    <tr>\n",
              "      <th>17</th>\n",
              "      <td>15.0</td>\n",
              "      <td>0.0</td>\n",
              "      <td>0.0</td>\n",
              "      <td>2</td>\n",
              "    </tr>\n",
              "    <tr>\n",
              "      <th>18</th>\n",
              "      <td>0.0</td>\n",
              "      <td>26000.0</td>\n",
              "      <td>120.0</td>\n",
              "      <td>2</td>\n",
              "    </tr>\n",
              "    <tr>\n",
              "      <th>19</th>\n",
              "      <td>75.0</td>\n",
              "      <td>103073.0</td>\n",
              "      <td>200000.0</td>\n",
              "      <td>2</td>\n",
              "    </tr>\n",
              "    <tr>\n",
              "      <th>20</th>\n",
              "      <td>0.0</td>\n",
              "      <td>1320.0</td>\n",
              "      <td>0.0</td>\n",
              "      <td>2</td>\n",
              "    </tr>\n",
              "    <tr>\n",
              "      <th>21</th>\n",
              "      <td>12.0</td>\n",
              "      <td>13800.0</td>\n",
              "      <td>0.0</td>\n",
              "      <td>2</td>\n",
              "    </tr>\n",
              "    <tr>\n",
              "      <th>22</th>\n",
              "      <td>0.0</td>\n",
              "      <td>125000.0</td>\n",
              "      <td>0.0</td>\n",
              "      <td>2</td>\n",
              "    </tr>\n",
              "    <tr>\n",
              "      <th>23</th>\n",
              "      <td>251.0</td>\n",
              "      <td>3941.0</td>\n",
              "      <td>0.0</td>\n",
              "      <td>2</td>\n",
              "    </tr>\n",
              "    <tr>\n",
              "      <th>24</th>\n",
              "      <td>20.0</td>\n",
              "      <td>90.0</td>\n",
              "      <td>80000.0</td>\n",
              "      <td>2</td>\n",
              "    </tr>\n",
              "    <tr>\n",
              "      <th>25</th>\n",
              "      <td>264.0</td>\n",
              "      <td>67213.0</td>\n",
              "      <td>10000.0</td>\n",
              "      <td>2</td>\n",
              "    </tr>\n",
              "    <tr>\n",
              "      <th>26</th>\n",
              "      <td>572.0</td>\n",
              "      <td>12471679.0</td>\n",
              "      <td>1077753.0</td>\n",
              "      <td>3</td>\n",
              "    </tr>\n",
              "    <tr>\n",
              "      <th>27</th>\n",
              "      <td>35.0</td>\n",
              "      <td>330777.0</td>\n",
              "      <td>0.0</td>\n",
              "      <td>2</td>\n",
              "    </tr>\n",
              "    <tr>\n",
              "      <th>28</th>\n",
              "      <td>1.0</td>\n",
              "      <td>5642003.0</td>\n",
              "      <td>0.0</td>\n",
              "      <td>3</td>\n",
              "    </tr>\n",
              "    <tr>\n",
              "      <th>29</th>\n",
              "      <td>18.0</td>\n",
              "      <td>0.0</td>\n",
              "      <td>0.0</td>\n",
              "      <td>2</td>\n",
              "    </tr>\n",
              "    <tr>\n",
              "      <th>30</th>\n",
              "      <td>24.0</td>\n",
              "      <td>25110.0</td>\n",
              "      <td>9000.0</td>\n",
              "      <td>2</td>\n",
              "    </tr>\n",
              "    <tr>\n",
              "      <th>31</th>\n",
              "      <td>16.0</td>\n",
              "      <td>958594.0</td>\n",
              "      <td>591000.0</td>\n",
              "      <td>2</td>\n",
              "    </tr>\n",
              "    <tr>\n",
              "      <th>32</th>\n",
              "      <td>41.0</td>\n",
              "      <td>143670.0</td>\n",
              "      <td>0.0</td>\n",
              "      <td>2</td>\n",
              "    </tr>\n",
              "    <tr>\n",
              "      <th>33</th>\n",
              "      <td>82.0</td>\n",
              "      <td>568248.0</td>\n",
              "      <td>545000.0</td>\n",
              "      <td>2</td>\n",
              "    </tr>\n",
              "    <tr>\n",
              "      <th>34</th>\n",
              "      <td>8.0</td>\n",
              "      <td>6.0</td>\n",
              "      <td>0.0</td>\n",
              "      <td>2</td>\n",
              "    </tr>\n",
              "    <tr>\n",
              "      <th>35</th>\n",
              "      <td>35.0</td>\n",
              "      <td>398343.0</td>\n",
              "      <td>26500.0</td>\n",
              "      <td>2</td>\n",
              "    </tr>\n",
              "    <tr>\n",
              "      <th>36</th>\n",
              "      <td>24.0</td>\n",
              "      <td>90360.0</td>\n",
              "      <td>0.0</td>\n",
              "      <td>2</td>\n",
              "    </tr>\n",
              "  </tbody>\n",
              "</table>\n",
              "</div>\n",
              "      <button class=\"colab-df-convert\" onclick=\"convertToInteractive('df-908cabb5-f354-487a-a6d8-b1e5a5f71f63')\"\n",
              "              title=\"Convert this dataframe to an interactive table.\"\n",
              "              style=\"display:none;\">\n",
              "        \n",
              "  <svg xmlns=\"http://www.w3.org/2000/svg\" height=\"24px\"viewBox=\"0 0 24 24\"\n",
              "       width=\"24px\">\n",
              "    <path d=\"M0 0h24v24H0V0z\" fill=\"none\"/>\n",
              "    <path d=\"M18.56 5.44l.94 2.06.94-2.06 2.06-.94-2.06-.94-.94-2.06-.94 2.06-2.06.94zm-11 1L8.5 8.5l.94-2.06 2.06-.94-2.06-.94L8.5 2.5l-.94 2.06-2.06.94zm10 10l.94 2.06.94-2.06 2.06-.94-2.06-.94-.94-2.06-.94 2.06-2.06.94z\"/><path d=\"M17.41 7.96l-1.37-1.37c-.4-.4-.92-.59-1.43-.59-.52 0-1.04.2-1.43.59L10.3 9.45l-7.72 7.72c-.78.78-.78 2.05 0 2.83L4 21.41c.39.39.9.59 1.41.59.51 0 1.02-.2 1.41-.59l7.78-7.78 2.81-2.81c.8-.78.8-2.07 0-2.86zM5.41 20L4 18.59l7.72-7.72 1.47 1.35L5.41 20z\"/>\n",
              "  </svg>\n",
              "      </button>\n",
              "      \n",
              "  <style>\n",
              "    .colab-df-container {\n",
              "      display:flex;\n",
              "      flex-wrap:wrap;\n",
              "      gap: 12px;\n",
              "    }\n",
              "\n",
              "    .colab-df-convert {\n",
              "      background-color: #E8F0FE;\n",
              "      border: none;\n",
              "      border-radius: 50%;\n",
              "      cursor: pointer;\n",
              "      display: none;\n",
              "      fill: #1967D2;\n",
              "      height: 32px;\n",
              "      padding: 0 0 0 0;\n",
              "      width: 32px;\n",
              "    }\n",
              "\n",
              "    .colab-df-convert:hover {\n",
              "      background-color: #E2EBFA;\n",
              "      box-shadow: 0px 1px 2px rgba(60, 64, 67, 0.3), 0px 1px 3px 1px rgba(60, 64, 67, 0.15);\n",
              "      fill: #174EA6;\n",
              "    }\n",
              "\n",
              "    [theme=dark] .colab-df-convert {\n",
              "      background-color: #3B4455;\n",
              "      fill: #D2E3FC;\n",
              "    }\n",
              "\n",
              "    [theme=dark] .colab-df-convert:hover {\n",
              "      background-color: #434B5C;\n",
              "      box-shadow: 0px 1px 3px 1px rgba(0, 0, 0, 0.15);\n",
              "      filter: drop-shadow(0px 1px 2px rgba(0, 0, 0, 0.3));\n",
              "      fill: #FFFFFF;\n",
              "    }\n",
              "  </style>\n",
              "\n",
              "      <script>\n",
              "        const buttonEl =\n",
              "          document.querySelector('#df-908cabb5-f354-487a-a6d8-b1e5a5f71f63 button.colab-df-convert');\n",
              "        buttonEl.style.display =\n",
              "          google.colab.kernel.accessAllowed ? 'block' : 'none';\n",
              "\n",
              "        async function convertToInteractive(key) {\n",
              "          const element = document.querySelector('#df-908cabb5-f354-487a-a6d8-b1e5a5f71f63');\n",
              "          const dataTable =\n",
              "            await google.colab.kernel.invokeFunction('convertToInteractive',\n",
              "                                                     [key], {});\n",
              "          if (!dataTable) return;\n",
              "\n",
              "          const docLinkHtml = 'Like what you see? Visit the ' +\n",
              "            '<a target=\"_blank\" href=https://colab.research.google.com/notebooks/data_table.ipynb>data table notebook</a>'\n",
              "            + ' to learn more about interactive tables.';\n",
              "          element.innerHTML = '';\n",
              "          dataTable['output_type'] = 'display_data';\n",
              "          await google.colab.output.renderOutput(dataTable, element);\n",
              "          const docLink = document.createElement('div');\n",
              "          docLink.innerHTML = docLinkHtml;\n",
              "          element.appendChild(docLink);\n",
              "        }\n",
              "      </script>\n",
              "    </div>\n",
              "  </div>\n",
              "  "
            ]
          },
          "metadata": {},
          "execution_count": 27
        }
      ]
    },
    {
      "cell_type": "code",
      "source": [
        "data_result_kmeans['cluster'].value_counts()"
      ],
      "metadata": {
        "colab": {
          "base_uri": "https://localhost:8080/"
        },
        "id": "JPVG6sOlb7CT",
        "outputId": "e0a3c58c-811a-4a32-f387-7abcaf6d35c9"
      },
      "execution_count": null,
      "outputs": [
        {
          "output_type": "execute_result",
          "data": {
            "text/plain": [
              "2    29\n",
              "3     4\n",
              "1     2\n",
              "0     1\n",
              "Name: cluster, dtype: int64"
            ]
          },
          "metadata": {},
          "execution_count": 28
        }
      ]
    },
    {
      "cell_type": "code",
      "source": [
        "plt.figure(figsize=(8,5))\n",
        "sns.boxplot(x='cluster',y='Total Deaths',data=data_result_kmeans, palette='rainbow')\n",
        "plt.title(\"Total Deaths each Cluster\")"
      ],
      "metadata": {
        "colab": {
          "base_uri": "https://localhost:8080/",
          "height": 381
        },
        "id": "SSaDuxWAcFTc",
        "outputId": "406cc0da-151b-4dd1-d3c4-19a0ec38fd39"
      },
      "execution_count": null,
      "outputs": [
        {
          "output_type": "execute_result",
          "data": {
            "text/plain": [
              "Text(0.5, 1.0, 'Total Deaths each Cluster')"
            ]
          },
          "metadata": {},
          "execution_count": 29
        },
        {
          "output_type": "display_data",
          "data": {
            "text/plain": [
              "<Figure size 576x360 with 1 Axes>"
            ],
            "image/png": "[encoded data removed]"
          },
          "metadata": {
            "needs_background": "light"
          }
        }
      ]
    },
    {
      "cell_type": "code",
      "source": [
        "plt.figure(figsize=(8,5))\n",
        "sns.boxplot(x='cluster',y='Total Affected',data=data_result_kmeans, palette='rainbow')\n",
        "plt.title(\"Total Affected each Cluster\")"
      ],
      "metadata": {
        "colab": {
          "base_uri": "https://localhost:8080/",
          "height": 381
        },
        "id": "gR56VXJGcV-A",
        "outputId": "beaedbcb-be08-48e4-b7bf-180788abc750"
      },
      "execution_count": null,
      "outputs": [
        {
          "output_type": "execute_result",
          "data": {
            "text/plain": [
              "Text(0.5, 1.0, 'Total Affected each Cluster')"
            ]
          },
          "metadata": {},
          "execution_count": 30
        },
        {
          "output_type": "display_data",
          "data": {
            "text/plain": [
              "<Figure size 576x360 with 1 Axes>"
            ],
            "image/png": "[encoded data removed]"
          },
          "metadata": {
            "needs_background": "light"
          }
        }
      ]
    },
    {
      "cell_type": "code",
      "source": [
        "plt.figure(figsize=(8,5))\n",
        "sns.boxplot(x='cluster',y='Total Damages',data=data_result_kmeans, palette='rainbow')\n",
        "plt.title(\"Total Damaged each Cluster\")"
      ],
      "metadata": {
        "colab": {
          "base_uri": "https://localhost:8080/",
          "height": 381
        },
        "id": "IxHbQSqicaog",
        "outputId": "fb9ed9a6-8e0b-4fb1-c3aa-4fd581610f1b"
      },
      "execution_count": null,
      "outputs": [
        {
          "output_type": "execute_result",
          "data": {
            "text/plain": [
              "Text(0.5, 1.0, 'Total Damaged each Cluster')"
            ]
          },
          "metadata": {},
          "execution_count": 31
        },
        {
          "output_type": "display_data",
          "data": {
            "text/plain": [
              "<Figure size 576x360 with 1 Axes>"
            ],
            "image/png": "[encoded data removed]"
          },
          "metadata": {
            "needs_background": "light"
          }
        }
      ]
    }
  ]
}